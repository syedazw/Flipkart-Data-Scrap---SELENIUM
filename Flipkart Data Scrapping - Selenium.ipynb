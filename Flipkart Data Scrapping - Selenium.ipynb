{
 "cells": [
  {
   "cell_type": "code",
   "execution_count": 1,
   "id": "0721c3d7-94cc-46c3-874d-28fb7ccdafd9",
   "metadata": {},
   "outputs": [],
   "source": [
    "import pandas as pd\n",
    "from selenium import webdriver\n",
    "from selenium.webdriver.common.by import By\n",
    "import time"
   ]
  },
  {
   "cell_type": "code",
   "execution_count": 2,
   "id": "77d080e4-af7b-499e-9d7e-0675dc724655",
   "metadata": {},
   "outputs": [],
   "source": [
    "driver = webdriver.Chrome()\n",
    "\n",
    "url = \"https://www.flipkart.com/search?q=shoes&otracker=search&otracker1=search&marketplace=FLIPKART&as-show=off&as=off\"\n",
    "\n",
    "driver.get(url)"
   ]
  },
  {
   "cell_type": "code",
   "execution_count": 14,
   "id": "ed120785-80b7-4ff5-8e5a-3da47f0ac41d",
   "metadata": {},
   "outputs": [
    {
     "name": "stdout",
     "output_type": "stream",
     "text": [
      "['Premium Comfortable Regular Wear Walking Shoes For Men', \"MIKE (N) Men's Sports Shoes | Memory Insole with Air Ca...\", 'Premium Comfortable Regular Wear Walking Shoes For Men', 'Zod Runner V3 IDP Casuals For Men', 'Synthetic Leather |Lightweight|Comfort|Summer|Trendy|Wa...', 'Premium Comfortable Regular Wear Walking Shoes For Men ...', 'Zod Runner V3 Running Shoes For Men', 'Smart Casual Comfortable White Sneakers For Girls Sneak...', 'HURRICANE Running Shoes For Men', 'Loafers For Men', \"MAGNITE Men's Sports Shoes | Durable Anti-Slip Sole Des...\", 'Lite Sports Running Shoes For Men', 'Synthetic Leather |Lightweight|Comfort|Summer|Trendy|Wa...', 'Hustle V2 IDP Casuals For Men', 'Zod Runner V3 IDP Casuals For Men', 'Terranova Sneakers For Men', 'Hustle V2 Sneakers For Men', 'Junior Zero1 Sports shoes for Men | Gym Training Walkin...', 'Running Shoes For Men', 'HURRICANE Running Shoes For Men', \"Women's Mesh Lightweight Comfortable Outdoor Lace Up Ca...\", 'Viking Exclusive X9X Running Shoes For Men', '( by GO21 ) Soft Insole, Slip-Resistance|Walking Casual...', 'Lace Up For Men', 'CRYSTA PRO Running Shoes For Men', 'CRYSTA PRO Running Shoes For Men', 'GlideEase M Running Shoes For Men', 'Hiking & Trekking Shoes with Anti-Slip and Extra-Comfor...', 'HURRICANE Running Shoes For Men', 'Premium Comfortable Regular Wear Walking Shoes For Men', \"MIKE (N) Men's Sports Shoes | Memory Insole with Air Ca...\", 'Premium Comfortable Regular Wear Walking Shoes For Men', 'Zod Runner V3 IDP Casuals For Men', 'Synthetic Leather |Lightweight|Comfort|Summer|Trendy|Wa...', 'Premium Comfortable Regular Wear Walking Shoes For Men ...', 'Zod Runner V3 Running Shoes For Men', 'Smart Casual Comfortable White Sneakers For Girls Sneak...', 'HURRICANE Running Shoes For Men', 'Loafers For Men', \"MAGNITE Men's Sports Shoes | Durable Anti-Slip Sole Des...\", 'Lite Sports Running Shoes For Men', 'Synthetic Leather |Lightweight|Comfort|Summer|Trendy|Wa...', 'Hustle V2 IDP Casuals For Men', 'Zod Runner V3 IDP Casuals For Men', 'Terranova Sneakers For Men', 'Hustle V2 Sneakers For Men', 'Junior Zero1 Sports shoes for Men | Gym Training Walkin...', 'Running Shoes For Men', 'HURRICANE Running Shoes For Men', \"Women's Mesh Lightweight Comfortable Outdoor Lace Up Ca...\", 'Viking Exclusive X9X Running Shoes For Men', '( by GO21 ) Soft Insole, Slip-Resistance|Walking Casual...', 'Lace Up For Men', 'CRYSTA PRO Running Shoes For Men', 'CRYSTA PRO Running Shoes For Men', 'GlideEase M Running Shoes For Men', 'Hiking & Trekking Shoes with Anti-Slip and Extra-Comfor...', 'HURRICANE Running Shoes For Men', 'Premium Comfortable Regular Wear Walking Shoes For Men', \"MIKE (N) Men's Sports Shoes | Memory Insole with Air Ca...\", 'Premium Comfortable Regular Wear Walking Shoes For Men', 'Zod Runner V3 IDP Casuals For Men', 'Synthetic Leather |Lightweight|Comfort|Summer|Trendy|Wa...', 'Premium Comfortable Regular Wear Walking Shoes For Men ...', 'Zod Runner V3 Running Shoes For Men', 'Smart Casual Comfortable White Sneakers For Girls Sneak...', 'HURRICANE Running Shoes For Men', 'Loafers For Men', \"MAGNITE Men's Sports Shoes | Durable Anti-Slip Sole Des...\", 'Lite Sports Running Shoes For Men', 'Synthetic Leather |Lightweight|Comfort|Summer|Trendy|Wa...', 'Hustle V2 IDP Casuals For Men', 'Zod Runner V3 IDP Casuals For Men', 'Terranova Sneakers For Men', 'Hustle V2 Sneakers For Men', 'Junior Zero1 Sports shoes for Men | Gym Training Walkin...', 'Running Shoes For Men', 'HURRICANE Running Shoes For Men', \"Women's Mesh Lightweight Comfortable Outdoor Lace Up Ca...\", 'Viking Exclusive X9X Running Shoes For Men', '( by GO21 ) Soft Insole, Slip-Resistance|Walking Casual...', 'Lace Up For Men', 'CRYSTA PRO Running Shoes For Men', 'CRYSTA PRO Running Shoes For Men', 'GlideEase M Running Shoes For Men', 'Hiking & Trekking Shoes with Anti-Slip and Extra-Comfor...', 'HURRICANE Running Shoes For Men', 'Premium Comfortable Regular Wear Walking Shoes For Men', \"MIKE (N) Men's Sports Shoes | Memory Insole with Air Ca...\", 'Premium Comfortable Regular Wear Walking Shoes For Men', 'Zod Runner V3 IDP Casuals For Men', 'Synthetic Leather |Lightweight|Comfort|Summer|Trendy|Wa...', 'Premium Comfortable Regular Wear Walking Shoes For Men ...', 'Zod Runner V3 Running Shoes For Men', 'Smart Casual Comfortable White Sneakers For Girls Sneak...', 'HURRICANE Running Shoes For Men', 'Loafers For Men', \"MAGNITE Men's Sports Shoes | Durable Anti-Slip Sole Des...\", 'Lite Sports Running Shoes For Men', 'Synthetic Leather |Lightweight|Comfort|Summer|Trendy|Wa...', 'Hustle V2 IDP Casuals For Men', 'Zod Runner V3 IDP Casuals For Men', 'Terranova Sneakers For Men', 'Hustle V2 Sneakers For Men', 'Junior Zero1 Sports shoes for Men | Gym Training Walkin...', 'Running Shoes For Men', 'HURRICANE Running Shoes For Men', \"Women's Mesh Lightweight Comfortable Outdoor Lace Up Ca...\", 'Viking Exclusive X9X Running Shoes For Men', '( by GO21 ) Soft Insole, Slip-Resistance|Walking Casual...', 'Lace Up For Men', 'CRYSTA PRO Running Shoes For Men', 'CRYSTA PRO Running Shoes For Men', 'GlideEase M Running Shoes For Men', 'Hiking & Trekking Shoes with Anti-Slip and Extra-Comfor...', 'HURRICANE Running Shoes For Men', 'Premium Comfortable Regular Wear Walking Shoes For Men', \"MIKE (N) Men's Sports Shoes | Memory Insole with Air Ca...\", 'Premium Comfortable Regular Wear Walking Shoes For Men', 'Zod Runner V3 IDP Casuals For Men', 'Synthetic Leather |Lightweight|Comfort|Summer|Trendy|Wa...', 'Premium Comfortable Regular Wear Walking Shoes For Men ...', 'Zod Runner V3 Running Shoes For Men', 'Smart Casual Comfortable White Sneakers For Girls Sneak...', 'HURRICANE Running Shoes For Men', 'Loafers For Men', \"MAGNITE Men's Sports Shoes | Durable Anti-Slip Sole Des...\", 'Lite Sports Running Shoes For Men', 'Synthetic Leather |Lightweight|Comfort|Summer|Trendy|Wa...', 'Hustle V2 IDP Casuals For Men', 'Zod Runner V3 IDP Casuals For Men', 'Terranova Sneakers For Men', 'Hustle V2 Sneakers For Men', 'Junior Zero1 Sports shoes for Men | Gym Training Walkin...', 'Running Shoes For Men', 'HURRICANE Running Shoes For Men', \"Women's Mesh Lightweight Comfortable Outdoor Lace Up Ca...\", 'Viking Exclusive X9X Running Shoes For Men', '( by GO21 ) Soft Insole, Slip-Resistance|Walking Casual...', 'Lace Up For Men', 'CRYSTA PRO Running Shoes For Men', 'CRYSTA PRO Running Shoes For Men', 'GlideEase M Running Shoes For Men', 'Hiking & Trekking Shoes with Anti-Slip and Extra-Comfor...', 'HURRICANE Running Shoes For Men', 'Premium Comfortable Regular Wear Walking Shoes For Men', \"MIKE (N) Men's Sports Shoes | Memory Insole with Air Ca...\", 'Premium Comfortable Regular Wear Walking Shoes For Men', 'Zod Runner V3 IDP Casuals For Men', 'Synthetic Leather |Lightweight|Comfort|Summer|Trendy|Wa...', 'Premium Comfortable Regular Wear Walking Shoes For Men ...', 'Zod Runner V3 Running Shoes For Men', 'Smart Casual Comfortable White Sneakers For Girls Sneak...', 'HURRICANE Running Shoes For Men', 'Loafers For Men', \"MAGNITE Men's Sports Shoes | Durable Anti-Slip Sole Des...\", 'Lite Sports Running Shoes For Men', 'Synthetic Leather |Lightweight|Comfort|Summer|Trendy|Wa...', 'Hustle V2 IDP Casuals For Men', 'Zod Runner V3 IDP Casuals For Men', 'Terranova Sneakers For Men', 'Hustle V2 Sneakers For Men', 'Junior Zero1 Sports shoes for Men | Gym Training Walkin...', 'Running Shoes For Men', 'HURRICANE Running Shoes For Men', \"Women's Mesh Lightweight Comfortable Outdoor Lace Up Ca...\", 'Viking Exclusive X9X Running Shoes For Men', '( by GO21 ) Soft Insole, Slip-Resistance|Walking Casual...', 'Lace Up For Men', 'CRYSTA PRO Running Shoes For Men', 'CRYSTA PRO Running Shoes For Men', 'GlideEase M Running Shoes For Men', 'Hiking & Trekking Shoes with Anti-Slip and Extra-Comfor...', 'HURRICANE Running Shoes For Men', 'Premium Comfortable Regular Wear Walking Shoes For Men', \"MIKE (N) Men's Sports Shoes | Memory Insole with Air Ca...\", 'Premium Comfortable Regular Wear Walking Shoes For Men', 'Zod Runner V3 IDP Casuals For Men', 'Synthetic Leather |Lightweight|Comfort|Summer|Trendy|Wa...', 'Premium Comfortable Regular Wear Walking Shoes For Men ...', 'Zod Runner V3 Running Shoes For Men', 'Smart Casual Comfortable White Sneakers For Girls Sneak...', 'HURRICANE Running Shoes For Men', 'Loafers For Men', \"MAGNITE Men's Sports Shoes | Durable Anti-Slip Sole Des...\", 'Lite Sports Running Shoes For Men', 'Synthetic Leather |Lightweight|Comfort|Summer|Trendy|Wa...', 'Hustle V2 IDP Casuals For Men', 'Zod Runner V3 IDP Casuals For Men', 'Terranova Sneakers For Men', 'Hustle V2 Sneakers For Men', 'Junior Zero1 Sports shoes for Men | Gym Training Walkin...', 'Running Shoes For Men', 'HURRICANE Running Shoes For Men', \"Women's Mesh Lightweight Comfortable Outdoor Lace Up Ca...\", 'Viking Exclusive X9X Running Shoes For Men', '( by GO21 ) Soft Insole, Slip-Resistance|Walking Casual...', 'Lace Up For Men', 'CRYSTA PRO Running Shoes For Men', 'CRYSTA PRO Running Shoes For Men', 'GlideEase M Running Shoes For Men', 'Hiking & Trekking Shoes with Anti-Slip and Extra-Comfor...', 'HURRICANE Running Shoes For Men', 'Premium Comfortable Regular Wear Walking Shoes For Men', \"MIKE (N) Men's Sports Shoes | Memory Insole with Air Ca...\", 'Premium Comfortable Regular Wear Walking Shoes For Men', 'Zod Runner V3 IDP Casuals For Men', 'Synthetic Leather |Lightweight|Comfort|Summer|Trendy|Wa...', 'Premium Comfortable Regular Wear Walking Shoes For Men ...', 'Zod Runner V3 Running Shoes For Men', 'Smart Casual Comfortable White Sneakers For Girls Sneak...', 'HURRICANE Running Shoes For Men', 'Loafers For Men', \"MAGNITE Men's Sports Shoes | Durable Anti-Slip Sole Des...\", 'Lite Sports Running Shoes For Men', 'Synthetic Leather |Lightweight|Comfort|Summer|Trendy|Wa...', 'Hustle V2 IDP Casuals For Men', 'Zod Runner V3 IDP Casuals For Men', 'Terranova Sneakers For Men', 'Hustle V2 Sneakers For Men', 'Junior Zero1 Sports shoes for Men | Gym Training Walkin...', 'Running Shoes For Men', 'HURRICANE Running Shoes For Men', \"Women's Mesh Lightweight Comfortable Outdoor Lace Up Ca...\", 'Viking Exclusive X9X Running Shoes For Men', '( by GO21 ) Soft Insole, Slip-Resistance|Walking Casual...', 'Lace Up For Men', 'CRYSTA PRO Running Shoes For Men', 'CRYSTA PRO Running Shoes For Men', 'GlideEase M Running Shoes For Men', 'Hiking & Trekking Shoes with Anti-Slip and Extra-Comfor...', 'HURRICANE Running Shoes For Men', 'Premium Comfortable Regular Wear Walking Shoes For Men', \"MIKE (N) Men's Sports Shoes | Memory Insole with Air Ca...\", 'Premium Comfortable Regular Wear Walking Shoes For Men', 'Zod Runner V3 IDP Casuals For Men', 'Synthetic Leather |Lightweight|Comfort|Summer|Trendy|Wa...', 'Premium Comfortable Regular Wear Walking Shoes For Men ...', 'Zod Runner V3 Running Shoes For Men', 'Smart Casual Comfortable White Sneakers For Girls Sneak...', 'HURRICANE Running Shoes For Men', 'Loafers For Men', \"MAGNITE Men's Sports Shoes | Durable Anti-Slip Sole Des...\", 'Lite Sports Running Shoes For Men', 'Synthetic Leather |Lightweight|Comfort|Summer|Trendy|Wa...', 'Hustle V2 IDP Casuals For Men', 'Zod Runner V3 IDP Casuals For Men', 'Terranova Sneakers For Men', 'Hustle V2 Sneakers For Men', 'Junior Zero1 Sports shoes for Men | Gym Training Walkin...', 'Running Shoes For Men', 'HURRICANE Running Shoes For Men', \"Women's Mesh Lightweight Comfortable Outdoor Lace Up Ca...\", 'Viking Exclusive X9X Running Shoes For Men', '( by GO21 ) Soft Insole, Slip-Resistance|Walking Casual...', 'Lace Up For Men', 'CRYSTA PRO Running Shoes For Men', 'CRYSTA PRO Running Shoes For Men', 'GlideEase M Running Shoes For Men', 'Hiking & Trekking Shoes with Anti-Slip and Extra-Comfor...', 'HURRICANE Running Shoes For Men']\n",
      "['₹1,999', '₹1,499', '₹1,699', '₹2,499', '₹1,999', '₹1,499', '₹1,299', '₹1,499', '₹2,999', '₹3,999', '₹1,999', '₹1,499', '₹3,999', '₹3,999', '₹1,999', '₹1,399', '₹999', '₹999', '₹1,399', '₹1,999', '₹1,499', '₹1,999', '₹3,999', '₹3,999', '₹4,799', '₹3,999', '₹2,199', '₹3,999', '₹1,399', '₹1,999', '₹1,499', '₹1,699', '₹2,499', '₹1,999', '₹1,499', '₹1,299', '₹1,499', '₹2,999', '₹3,999', '₹1,999', '₹1,499', '₹3,999', '₹3,999', '₹1,999', '₹1,399', '₹999', '₹999', '₹1,399', '₹1,999', '₹1,499', '₹1,999', '₹3,999', '₹3,999', '₹4,799', '₹3,999', '₹2,199', '₹3,999', '₹1,399', '₹1,999', '₹1,499', '₹1,699', '₹2,499', '₹1,999', '₹1,499', '₹1,299', '₹1,499', '₹2,999', '₹3,999', '₹1,999', '₹1,499', '₹3,999', '₹3,999', '₹1,999', '₹1,399', '₹999', '₹999', '₹1,399', '₹1,999', '₹1,499', '₹1,999', '₹3,999', '₹3,999', '₹4,799', '₹3,999', '₹2,199', '₹3,999', '₹1,399', '₹1,999', '₹1,499', '₹1,699', '₹2,499', '₹1,999', '₹1,499', '₹1,299', '₹1,499', '₹2,999', '₹3,999', '₹1,999', '₹1,499', '₹3,999', '₹3,999', '₹1,999', '₹1,399', '₹999', '₹999', '₹1,399', '₹1,999', '₹1,499', '₹1,999', '₹3,999', '₹3,999', '₹4,799', '₹3,999', '₹2,199', '₹3,999', '₹1,399', '₹1,999', '₹1,499', '₹1,699', '₹2,499', '₹1,999', '₹1,499', '₹1,299', '₹1,499', '₹2,999', '₹3,999', '₹1,999', '₹1,499', '₹3,999', '₹3,999', '₹1,999', '₹1,399', '₹999', '₹999', '₹1,399', '₹1,999', '₹1,499', '₹1,999', '₹3,999', '₹3,999', '₹4,799', '₹3,999', '₹2,199', '₹3,999', '₹1,399', '₹1,999', '₹1,499', '₹1,699', '₹2,499', '₹1,999', '₹1,499', '₹1,299', '₹1,499', '₹2,999', '₹3,999', '₹1,999', '₹1,499', '₹3,999', '₹3,999', '₹1,999', '₹1,399', '₹999', '₹999', '₹1,399', '₹1,999', '₹1,499', '₹1,999', '₹3,999', '₹3,999', '₹4,799', '₹3,999', '₹2,199', '₹3,999', '₹1,399', '₹1,999', '₹1,499', '₹1,699', '₹2,499', '₹1,999', '₹1,499', '₹1,299', '₹1,499', '₹2,999', '₹3,999', '₹1,999', '₹1,499', '₹3,999', '₹3,999', '₹1,999', '₹1,399', '₹999', '₹999', '₹1,399', '₹1,999', '₹1,499', '₹1,999', '₹3,999', '₹3,999', '₹4,799', '₹3,999', '₹2,199', '₹3,999', '₹1,399', '₹1,999', '₹1,499', '₹1,699', '₹2,499', '₹1,999', '₹1,499', '₹1,299', '₹1,499', '₹2,999', '₹3,999', '₹1,999', '₹1,499', '₹3,999', '₹3,999', '₹1,999', '₹1,399', '₹999', '₹999', '₹1,399', '₹1,999', '₹1,499', '₹1,999', '₹3,999', '₹3,999', '₹4,799', '₹3,999', '₹2,199', '₹3,999', '₹1,399', '₹1,999', '₹1,499', '₹1,699', '₹2,499', '₹1,999', '₹1,499', '₹1,299', '₹1,499', '₹2,999', '₹3,999', '₹1,999', '₹1,499', '₹3,999', '₹3,999', '₹1,999', '₹1,399', '₹999', '₹999', '₹1,399', '₹1,999', '₹1,499', '₹1,999', '₹3,999', '₹3,999', '₹4,799', '₹3,999', '₹2,199', '₹3,999', '₹1,399']\n"
     ]
    }
   ],
   "source": [
    "# Lists for products and their prices\n",
    "products = []\n",
    "prices = []\n",
    "\n",
    "# Loop through multiple pages\n",
    "for i in range(1, 10):  # Adjust the range as needed\n",
    "    url = f\"https://www.flipkart.com/search?q=shoes&otracker=search&otracker1=search&marketplace=FLIPKART&as-show=on&as=off&page={i}\"\n",
    "    \n",
    "    # Find product titles and prices\n",
    "    titles = driver.find_elements(By.XPATH, \"//a[@class='WKTcLC']\")  # Update XPATH if incorrect\n",
    "    price_elements = driver.find_elements(By.XPATH, \"//div[@class='yRaY8j']\")  # Update XPATH if incorrect\n",
    "    \n",
    "    # Iterate using indices\n",
    "    min_length = min(len(titles), len(price_elements))  # Ensure alignment\n",
    "    for index in range(min_length):\n",
    "        product_name = titles[index].text.strip()\n",
    "        product_price = price_elements[index].text.strip()\n",
    "\n",
    "        products.append(product_name)\n",
    "\n",
    "        # Add product and price to lists only if they're unique\n",
    "        # if product_name not in products:\n",
    "        prices.append(product_price)\n",
    "\n",
    "    # next_button = driver.find_element(\"//a[@class='_9QVEpD'][1]\")\n",
    "    # next_button.click()\n",
    "\n",
    "print(products)\n",
    "print(prices)"
   ]
  },
  {
   "cell_type": "code",
   "execution_count": 15,
   "id": "8032e6d9-82dc-4fb4-b459-a638299048f5",
   "metadata": {},
   "outputs": [
    {
     "name": "stdout",
     "output_type": "stream",
     "text": [
      "261\n",
      "261\n"
     ]
    }
   ],
   "source": [
    "print(len(products))\n",
    "print(len(prices))"
   ]
  },
  {
   "cell_type": "code",
   "execution_count": 16,
   "id": "f1627b18-68c0-4b92-95e9-1c27d2c2f9bd",
   "metadata": {},
   "outputs": [],
   "source": [
    "df = pd.DataFrame({\"Title\": products, \"Prices\": prices})\n",
    "df.to_excel('flipcart.xlsx', index=False)"
   ]
  },
  {
   "cell_type": "code",
   "execution_count": 17,
   "id": "19835bac-5688-4d36-bdfa-2b6e6d66eab7",
   "metadata": {},
   "outputs": [
    {
     "data": {
      "text/html": [
       "<div>\n",
       "<style scoped>\n",
       "    .dataframe tbody tr th:only-of-type {\n",
       "        vertical-align: middle;\n",
       "    }\n",
       "\n",
       "    .dataframe tbody tr th {\n",
       "        vertical-align: top;\n",
       "    }\n",
       "\n",
       "    .dataframe thead th {\n",
       "        text-align: right;\n",
       "    }\n",
       "</style>\n",
       "<table border=\"1\" class=\"dataframe\">\n",
       "  <thead>\n",
       "    <tr style=\"text-align: right;\">\n",
       "      <th></th>\n",
       "      <th>Title</th>\n",
       "      <th>Prices</th>\n",
       "    </tr>\n",
       "  </thead>\n",
       "  <tbody>\n",
       "    <tr>\n",
       "      <th>0</th>\n",
       "      <td>Premium Comfortable Regular Wear Walking Shoes...</td>\n",
       "      <td>₹1,999</td>\n",
       "    </tr>\n",
       "    <tr>\n",
       "      <th>1</th>\n",
       "      <td>MIKE (N) Men's Sports Shoes | Memory Insole wi...</td>\n",
       "      <td>₹1,499</td>\n",
       "    </tr>\n",
       "    <tr>\n",
       "      <th>2</th>\n",
       "      <td>Premium Comfortable Regular Wear Walking Shoes...</td>\n",
       "      <td>₹1,699</td>\n",
       "    </tr>\n",
       "    <tr>\n",
       "      <th>3</th>\n",
       "      <td>Zod Runner V3 IDP Casuals For Men</td>\n",
       "      <td>₹2,499</td>\n",
       "    </tr>\n",
       "    <tr>\n",
       "      <th>4</th>\n",
       "      <td>Synthetic Leather |Lightweight|Comfort|Summer|...</td>\n",
       "      <td>₹1,999</td>\n",
       "    </tr>\n",
       "    <tr>\n",
       "      <th>...</th>\n",
       "      <td>...</td>\n",
       "      <td>...</td>\n",
       "    </tr>\n",
       "    <tr>\n",
       "      <th>256</th>\n",
       "      <td>CRYSTA PRO Running Shoes For Men</td>\n",
       "      <td>₹4,799</td>\n",
       "    </tr>\n",
       "    <tr>\n",
       "      <th>257</th>\n",
       "      <td>CRYSTA PRO Running Shoes For Men</td>\n",
       "      <td>₹3,999</td>\n",
       "    </tr>\n",
       "    <tr>\n",
       "      <th>258</th>\n",
       "      <td>GlideEase M Running Shoes For Men</td>\n",
       "      <td>₹2,199</td>\n",
       "    </tr>\n",
       "    <tr>\n",
       "      <th>259</th>\n",
       "      <td>Hiking &amp; Trekking Shoes with Anti-Slip and Ext...</td>\n",
       "      <td>₹3,999</td>\n",
       "    </tr>\n",
       "    <tr>\n",
       "      <th>260</th>\n",
       "      <td>HURRICANE Running Shoes For Men</td>\n",
       "      <td>₹1,399</td>\n",
       "    </tr>\n",
       "  </tbody>\n",
       "</table>\n",
       "<p>261 rows × 2 columns</p>\n",
       "</div>"
      ],
      "text/plain": [
       "                                                 Title  Prices\n",
       "0    Premium Comfortable Regular Wear Walking Shoes...  ₹1,999\n",
       "1    MIKE (N) Men's Sports Shoes | Memory Insole wi...  ₹1,499\n",
       "2    Premium Comfortable Regular Wear Walking Shoes...  ₹1,699\n",
       "3                    Zod Runner V3 IDP Casuals For Men  ₹2,499\n",
       "4    Synthetic Leather |Lightweight|Comfort|Summer|...  ₹1,999\n",
       "..                                                 ...     ...\n",
       "256                   CRYSTA PRO Running Shoes For Men  ₹4,799\n",
       "257                   CRYSTA PRO Running Shoes For Men  ₹3,999\n",
       "258                  GlideEase M Running Shoes For Men  ₹2,199\n",
       "259  Hiking & Trekking Shoes with Anti-Slip and Ext...  ₹3,999\n",
       "260                    HURRICANE Running Shoes For Men  ₹1,399\n",
       "\n",
       "[261 rows x 2 columns]"
      ]
     },
     "execution_count": 17,
     "metadata": {},
     "output_type": "execute_result"
    }
   ],
   "source": [
    "df"
   ]
  },
  {
   "cell_type": "code",
   "execution_count": null,
   "id": "c4d15e8d-9f4f-4539-97d8-673af0a7dac4",
   "metadata": {},
   "outputs": [],
   "source": []
  }
 ],
 "metadata": {
  "kernelspec": {
   "display_name": "Python 3 (ipykernel)",
   "language": "python",
   "name": "python3"
  },
  "language_info": {
   "codemirror_mode": {
    "name": "ipython",
    "version": 3
   },
   "file_extension": ".py",
   "mimetype": "text/x-python",
   "name": "python",
   "nbconvert_exporter": "python",
   "pygments_lexer": "ipython3",
   "version": "3.11.7"
  }
 },
 "nbformat": 4,
 "nbformat_minor": 5
}
